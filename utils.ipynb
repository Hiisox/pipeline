{
 "cells": [
  {
   "cell_type": "code",
   "execution_count": null,
   "metadata": {
    "vscode": {
     "languageId": "plaintext"
    }
   },
   "outputs": [],
   "source": [
    "def download_config():\n",
    "    i = 0\n",
    "    try :\n",
    "      file = open(\"pipeline/config.yaml\",\"r\")\n",
    "      file.close()\n",
    "    except FileNotFoundError:\n",
    "      i = 1\n",
    "    if i == 1:\n",
    "      !git clone https://github.com/Hiisox/pipeline.git"
   ]
  }
 ],
 "metadata": {
  "language_info": {
   "name": "python"
  }
 },
 "nbformat": 4,
 "nbformat_minor": 2
}
