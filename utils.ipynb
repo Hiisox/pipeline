{
 "cells": [
  {
   "cell_type": "code",
   "execution_count": 15,
   "metadata": {},
   "outputs": [],
   "source": [
    "def download_config():\n",
    "    i = 0\n",
    "    try :\n",
    "      file = open(\"pipeline/config.yaml\",\"r\")\n",
    "      file.close()\n",
    "    except FileNotFoundError:\n",
    "      i = 1\n",
    "    if i == 1:\n",
    "      !git clone https://github.com/Hiisox/pipeline.git"
   ]
  }
 ],
 "metadata": {
  "kernelspec": {
   "display_name": "Python 3 (ipykernel)",
   "language": "python",
   "name": "python3"
  },
  "language_info": {
   "codemirror_mode": {
    "name": "ipython",
    "version": 3
   },
   "file_extension": ".py",
   "mimetype": "text/x-python",
   "name": "python",
   "nbconvert_exporter": "python",
   "pygments_lexer": "ipython3",
   "version": "3.12.4"
  }
 },
 "nbformat": 4,
 "nbformat_minor": 4
}
